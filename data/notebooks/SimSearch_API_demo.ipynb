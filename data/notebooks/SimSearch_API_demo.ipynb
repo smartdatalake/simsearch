{
 "cells": [
  {
   "cell_type": "markdown",
   "metadata": {},
   "source": [
    "# Interacting with the SimSearch REST API"
   ]
  },
  {
   "cell_type": "markdown",
   "metadata": {},
   "source": [
    "## Connection to an instance of the SimSearch service"
   ]
  },
  {
   "cell_type": "code",
   "execution_count": null,
   "metadata": {},
   "outputs": [],
   "source": [
    "import requests\n",
    "import json\n",
    "import pandas as pd  \n",
    "\n",
    "# Use 5 decimal digits for floating numerical values\n",
    "pd.options.display.float_format = '{:,.5f}'.format"
   ]
  },
  {
   "cell_type": "code",
   "execution_count": null,
   "metadata": {},
   "outputs": [],
   "source": [
    "# URL of the web service\n",
    "# E.g., assuming that the SimSearch service has been deployed locally at port 8090:\n",
    "serviceURL = 'http://localhost:8090/simsearch/api/'"
   ]
  },
  {
   "cell_type": "markdown",
   "metadata": {},
   "source": [
    "### Mount request: Define data sources available for similarity search"
   ]
  },
  {
   "cell_type": "code",
   "execution_count": null,
   "metadata": {},
   "outputs": [],
   "source": [
    "# Specify a mount request to the SimSearch API that will index the data sources specified in the parameters\n",
    "mount = serviceURL + 'index'\n",
    "\n",
    "# JSON specification for the data sources and the similarity operations supported for their attributes\n",
    "# In this example, note that the CSV dataset is available at a remote HTTP server\n",
    "params = {'sources':[{'name':'remotePath1','type':'csv','url':'http://download.smartdatalake.eu/datasets/gdelt/'}], 'search':[{'operation':'spatial_knn','source':'remotePath1','dataset':'sample.csv','header':'true','separator':',','key_column':'article_id','search_column':['longitude','latitude']}, {'operation':'categorical_topk','source':'remotePath1','dataset':'sample.csv','separator':',','token_delimiter':';','header':'true','key_column':'article_id','search_column':'persons'}, {'operation':'numerical_topk','source':'remotePath1','dataset':'sample.csv','separator':',','header':'true','key_column':'article_id','search_column':'timestamp'}]}\n",
    "\n",
    "# IMPORTANT! No API key is required for such requests\n",
    "# A new API key will be generated once this request completes successfully\n",
    "headers = {'Content-Type' : 'application/json'}\n",
    "\n",
    "# Post this request with these parameters\n",
    "response = requests.post(mount, json=params, headers=headers)\n",
    "\n",
    "# Provide the resulting message (with the API key to be used in subsequent requests)\n",
    "print(response.json())"
   ]
  },
  {
   "cell_type": "markdown",
   "metadata": {},
   "source": [
    "### Remember your API key"
   ]
  },
  {
   "cell_type": "code",
   "execution_count": null,
   "metadata": {},
   "outputs": [],
   "source": [
    "# Copy below your API key obtained from the above request for further use with any other requests against this instance\n",
    "API_KEY = ''"
   ]
  },
  {
   "cell_type": "markdown",
   "metadata": {},
   "source": [
    "### Catalog request: List the queryable attributes"
   ]
  },
  {
   "cell_type": "code",
   "execution_count": null,
   "metadata": {},
   "outputs": [],
   "source": [
    "# Specify a catalog request to the SimSearch API\n",
    "catalog = serviceURL + 'catalog'\n",
    "\n",
    "# JSON specification may be empty in order to list all available attributes ...\n",
    "params = {}\n",
    "\n",
    "# ... or specify a particular type of similarity operation\n",
    "#params= {'operation': 'numerical_topk'}\n",
    "\n",
    "# API key is required for such requests\n",
    "headers = { 'api_key' : API_KEY, 'Content-Type' : 'application/json'}\n",
    "\n",
    "# Post this request with these parameters to the SimSearch service; response is given in a JSON array\n",
    "response = requests.post(catalog, json=params, headers=headers)\n",
    "#print(response.json())"
   ]
  },
  {
   "cell_type": "markdown",
   "metadata": {},
   "source": [
    "Report the queryable attributes and their supported similarity operations. Note that the spatial operation makes use of two attributes (lon, lat) available in the original dataset:"
   ]
  },
  {
   "cell_type": "code",
   "execution_count": null,
   "metadata": {
    "scrolled": true
   },
   "outputs": [],
   "source": [
    "df = pd.DataFrame(response.json())\n",
    "df"
   ]
  },
  {
   "cell_type": "markdown",
   "metadata": {},
   "source": [
    "### Search request: top-k similarity search query"
   ]
  },
  {
   "cell_type": "code",
   "execution_count": null,
   "metadata": {},
   "outputs": [],
   "source": [
    "# Specify a search request to the SimSearch API\n",
    "search = serviceURL + 'search'\n",
    "\n",
    "# Count of top-k results to be returned\n",
    "k = 20\n",
    "\n",
    "# Rank aggregation method to be used; Possible values for the ranking algorithm: 'threshold' (default); 'no_random_access'\"'; '\"'partial_random_access'\"'.\n",
    "rankMethod = 'threshold'\n",
    "\n",
    "# Query values for similarity search \n",
    "valKeywords = ['joe biden','donald trump']\n",
    "valLocation = 'POINT(-74.94 42.15)'\n",
    "valTimeStamp = '20191104084500'\n",
    "\n",
    "# Specify all query parameters\n",
    "# Note that multiple combinations of weights are specified per attribute -> In this example, two lists of top-k results will be computed\n",
    "params = {'algorithm':rankMethod, 'k':k, 'queries':[{'column':'persons','value':valKeywords ,'weights':['1.0','0.8']}, {'column':'timestamp','value':valTimestamp,'weights':['1.0','0.4']}, {'column':['longitude','latitude'],'value':valLocation,'weights':['1.0','0.7']}]}\n",
    "    \n",
    "# Valid API key is required for such requests\n",
    "headers = { 'api_key' : API_KEY, 'Content-Type' : 'application/json'}\n",
    "\n",
    "# Post this request with these parameters to the SimSearch service; response is given in a JSON array\n",
    "response = requests.post(search, json=params, headers=headers)\n",
    "#print(response.json())"
   ]
  },
  {
   "cell_type": "markdown",
   "metadata": {},
   "source": [
    "Report final ranked results: An array of top-k results is returned for each specified combination of weights.\n",
    "\n",
    "For each combination, a similarity matrix is also returned, measuring the similarity between all pairs of the top-k results."
   ]
  },
  {
   "cell_type": "code",
   "execution_count": null,
   "metadata": {},
   "outputs": [],
   "source": [
    "df = pd.DataFrame(response.json())\n",
    "df"
   ]
  },
  {
   "cell_type": "markdown",
   "metadata": {},
   "source": [
    "Get the top-k results for a given combination of weights:"
   ]
  },
  {
   "cell_type": "code",
   "execution_count": null,
   "metadata": {},
   "outputs": [],
   "source": [
    "# E.g., the 2nd combination of weights for the attributes are\n",
    "weights = df['weights'].iloc[1]\n",
    "print(weights)\n",
    "\n",
    "# And the topk-k results corresponding to the 2nd combination of weights\n",
    "results = df['rankedResults'].iloc[1]\n",
    "dfResults = pd.json_normalize(results)\n",
    "dfResults"
   ]
  },
  {
   "cell_type": "markdown",
   "metadata": {},
   "source": [
    "Flatten attribute values and scores contained in the nested array:"
   ]
  },
  {
   "cell_type": "code",
   "execution_count": null,
   "metadata": {},
   "outputs": [],
   "source": [
    "# Isolate these properties (attribute name, its value for each result, and its similarity score) contained in the nested array\n",
    "dfAttr = pd.json_normalize(results, 'attributes', ['id'])\n",
    "\n",
    "# Also, replace the name of the spatial attribute in case that it consists of two original attributes (e.g., longitude, latitude)\n",
    "dfAttr['name'].replace('[longitude, latitude]', 'location', inplace = True)\n",
    "dfAttrFlat = dfAttr.set_index(['id','name']).unstack()\n",
    "dfAttrFlat.columns = [f'{j}_{i}' for i, j in dfAttrFlat.columns]\n",
    "dfAttrFlat.reset_index()\n",
    "\n",
    "# Rest of the properties in the results\n",
    "dfRest = dfResults.loc[:, ['id','score','rank','exact']]\n",
    "\n",
    "# Merge with the flattened attribute properties\n",
    "# This provides all infomation about this batch of top-k results\n",
    "dfFinal = pd.merge(dfRest, dfAttrFlat, on=['id','id'])\n",
    "\n",
    "# Top-k results in a flattened data frame available for post-processing (e.g., map visualization, statistics, etc.)\n",
    "dfFinal"
   ]
  },
  {
   "cell_type": "code",
   "execution_count": null,
   "metadata": {},
   "outputs": [],
   "source": []
  }
 ],
 "metadata": {
  "kernelspec": {
   "display_name": "Python 3",
   "language": "python",
   "name": "python3"
  },
  "language_info": {
   "codemirror_mode": {
    "name": "ipython",
    "version": 3
   },
   "file_extension": ".py",
   "mimetype": "text/x-python",
   "name": "python",
   "nbconvert_exporter": "python",
   "pygments_lexer": "ipython3",
   "version": "3.8.3"
  }
 },
 "nbformat": 4,
 "nbformat_minor": 4
}
